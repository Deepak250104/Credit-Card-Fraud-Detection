{
 "cells": [
  {
   "cell_type": "code",
   "execution_count": 7,
   "id": "0e6f8ad5",
   "metadata": {},
   "outputs": [],
   "source": [
    "import pandas as pd\n",
    "from sklearn.model_selection import train_test_split\n",
    "import sys\n",
    "sys.path.append(\"../\")  # go one directory up (from notebooks/ to project root)\n",
    "from src.preprocessing import feature_engineer, load_and_split_data, handle_imbalance_smote, scale_data\n",
    "import joblib"
   ]
  },
  {
   "cell_type": "markdown",
   "id": "cdff7f82",
   "metadata": {},
   "source": [
    "Load the dataset"
   ]
  },
  {
   "cell_type": "code",
   "execution_count": 8,
   "id": "4dbac192",
   "metadata": {},
   "outputs": [],
   "source": [
    "data_path = '../data/creditcard.csv'\n",
    "df = pd.read_csv(data_path)"
   ]
  },
  {
   "cell_type": "markdown",
   "id": "44012612",
   "metadata": {},
   "source": [
    "Feature Engineering"
   ]
  },
  {
   "cell_type": "code",
   "execution_count": 9,
   "id": "edb549c4",
   "metadata": {},
   "outputs": [],
   "source": [
    "df_engineered = feature_engineer(df.copy())"
   ]
  },
  {
   "cell_type": "markdown",
   "id": "a3a60c6b",
   "metadata": {},
   "source": [
    "Splitting the data into train and testing"
   ]
  },
  {
   "cell_type": "code",
   "execution_count": 10,
   "id": "0a6d6338",
   "metadata": {},
   "outputs": [],
   "source": [
    "X = df_engineered.drop('Class', axis=1)\n",
    "y = df_engineered['Class']\n",
    "X_train, X_test, y_train, y_test = train_test_split(X, y, test_size=0.2, random_state=42, stratify=y)"
   ]
  },
  {
   "cell_type": "markdown",
   "id": "dd37d29f",
   "metadata": {},
   "source": [
    "Scaling the data"
   ]
  },
  {
   "cell_type": "code",
   "execution_count": 11,
   "id": "426aa449",
   "metadata": {},
   "outputs": [],
   "source": [
    "X_train_scaled, X_test_scaled, scaler = scale_data(X_train, X_test)"
   ]
  },
  {
   "cell_type": "markdown",
   "id": "6a93635c",
   "metadata": {},
   "source": [
    "Handling class imbalance using SMOTE"
   ]
  },
  {
   "cell_type": "code",
   "execution_count": 12,
   "id": "1976672c",
   "metadata": {},
   "outputs": [],
   "source": [
    "X_train_resampled, y_train_resampled = handle_imbalance_smote(X_train_scaled, y_train)"
   ]
  },
  {
   "cell_type": "markdown",
   "id": "1eec83a1",
   "metadata": {},
   "source": [
    "Saving the processed data and scaler"
   ]
  },
  {
   "cell_type": "code",
   "execution_count": 15,
   "id": "73390c4e",
   "metadata": {},
   "outputs": [
    {
     "name": "stdout",
     "output_type": "stream",
     "text": [
      "Processed training data saved to ../Data/\n",
      "Processed testing data saved to ../Data/\n",
      "Scaler saved to ../Models/\n"
     ]
    }
   ],
   "source": [
    "joblib.dump(X_train_resampled, '../Data/X_train_resampled.joblib')\n",
    "joblib.dump(y_train_resampled, '../Data/y_train_resampled.joblib')\n",
    "joblib.dump(X_test_scaled, '../Data/X_test_scaled.joblib')\n",
    "joblib.dump(y_test, '../Data/y_test.joblib')\n",
    "joblib.dump(scaler, '../Models/scaler.joblib')\n",
    "\n",
    "print(\"Processed training data saved to ../Data/\")\n",
    "print(\"Processed testing data saved to ../Data/\")\n",
    "print(\"Scaler saved to ../Models/\")"
   ]
  }
 ],
 "metadata": {
  "kernelspec": {
   "display_name": ".venv",
   "language": "python",
   "name": "python3"
  },
  "language_info": {
   "codemirror_mode": {
    "name": "ipython",
    "version": 3
   },
   "file_extension": ".py",
   "mimetype": "text/x-python",
   "name": "python",
   "nbconvert_exporter": "python",
   "pygments_lexer": "ipython3",
   "version": "3.12.4"
  }
 },
 "nbformat": 4,
 "nbformat_minor": 5
}
